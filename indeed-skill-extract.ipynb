{
 "cells": [
  {
   "cell_type": "code",
   "execution_count": 160,
   "metadata": {},
   "outputs": [],
   "source": [
    "import pandas as pd\n",
    "import numpy as np\n",
    "import itertools\n",
    "import re"
   ]
  },
  {
   "cell_type": "code",
   "execution_count": 161,
   "metadata": {},
   "outputs": [],
   "source": [
    "profile_data = pd.read_csv('data/linkedin_profile.csv')\n",
    "job_data = pd.read_csv('data/job_data.csv')"
   ]
  },
  {
   "cell_type": "code",
   "execution_count": 162,
   "metadata": {},
   "outputs": [],
   "source": [
    "skill = [skill.split(\",\") if type(skill) == str else \"\" for skill in profile_data['skill']]\n",
    "skill = list(itertools.chain.from_iterable(skill))\n",
    "skill = pd.DataFrame(skill).to_csv(\"data/skill.csv\", index=None, header=None)"
   ]
  },
  {
   "cell_type": "code",
   "execution_count": 163,
   "metadata": {},
   "outputs": [],
   "source": [
    "skill = pd.read_csv('data/skill.csv', header=None)\n",
    "skill = skill[0].values"
   ]
  },
  {
   "cell_type": "markdown",
   "metadata": {},
   "source": [
    "### Skill Extract"
   ]
  },
  {
   "cell_type": "code",
   "execution_count": 164,
   "metadata": {},
   "outputs": [],
   "source": [
    "def check_intersection(document, keyword):\n",
    "    return set(keyword).intersection(set(document.split()))"
   ]
  },
  {
   "cell_type": "code",
   "execution_count": 165,
   "metadata": {},
   "outputs": [],
   "source": [
    "job_skill = []\n",
    "for document in job_data['desc']:\n",
    "    job_skill.append(\",\".join(check_intersection(document, skill)))"
   ]
  },
  {
   "cell_type": "code",
   "execution_count": 166,
   "metadata": {},
   "outputs": [],
   "source": [
    "job_skill = pd.DataFrame(job_skill, columns=[\"skill\"])\n",
    "job_data_skill = pd.concat([job_data, job_skill], axis=1)\n",
    "job_data_skill.to_csv('data/job_data(skill).csv', index=None)"
   ]
  },
  {
   "cell_type": "code",
   "execution_count": null,
   "metadata": {},
   "outputs": [],
   "source": []
  }
 ],
 "metadata": {
  "kernelspec": {
   "display_name": "Python 3",
   "language": "python",
   "name": "python3"
  },
  "language_info": {
   "codemirror_mode": {
    "name": "ipython",
    "version": 3
   },
   "file_extension": ".py",
   "mimetype": "text/x-python",
   "name": "python",
   "nbconvert_exporter": "python",
   "pygments_lexer": "ipython3",
   "version": "3.7.3"
  }
 },
 "nbformat": 4,
 "nbformat_minor": 4
}
